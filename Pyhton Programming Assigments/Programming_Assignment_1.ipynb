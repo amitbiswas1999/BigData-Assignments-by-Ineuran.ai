{
  "cells": [
    {
      "cell_type": "markdown",
      "id": "637b47a5",
      "metadata": {
        "id": "637b47a5"
      },
      "source": [
        "## Programming Assignment_1\n",
        "-------------"
      ]
    },
    {
      "cell_type": "markdown",
      "id": "0c647dbe",
      "metadata": {
        "id": "0c647dbe"
      },
      "source": [
        "### 1. Write a Python program to print \"Hello Python\"?\n",
        "##### Sol:"
      ]
    },
    {
      "cell_type": "code",
      "execution_count": 1,
      "id": "732cbadd",
      "metadata": {
        "id": "732cbadd",
        "outputId": "3461a513-8d9e-4124-dc85-5203c2a9ae61",
        "colab": {
          "base_uri": "https://localhost:8080/"
        }
      },
      "outputs": [
        {
          "output_type": "stream",
          "name": "stdout",
          "text": [
            "Hello Python\n"
          ]
        }
      ],
      "source": [
        "print(\"Hello Python\")"
      ]
    },
    {
      "cell_type": "markdown",
      "id": "fc18a6cd",
      "metadata": {
        "id": "fc18a6cd"
      },
      "source": [
        "### 2. Write a Python program to do arithmetical operations addition and division.?\n",
        "##### Sol:"
      ]
    },
    {
      "cell_type": "code",
      "execution_count": 7,
      "id": "d5e81491",
      "metadata": {
        "id": "d5e81491"
      },
      "outputs": [],
      "source": [
        "a = 5\n",
        "b = 6"
      ]
    },
    {
      "cell_type": "code",
      "source": [
        "addition = a + b\n",
        "print(addition)"
      ],
      "metadata": {
        "id": "wvfSgaYDqzJu",
        "outputId": "8d5188e6-d3f8-4e8e-fe1e-58d4e63f8fea",
        "colab": {
          "base_uri": "https://localhost:8080/"
        }
      },
      "id": "wvfSgaYDqzJu",
      "execution_count": 5,
      "outputs": [
        {
          "output_type": "stream",
          "name": "stdout",
          "text": [
            "11\n"
          ]
        }
      ]
    },
    {
      "cell_type": "code",
      "source": [
        "division = a/b\n",
        "print(division )"
      ],
      "metadata": {
        "id": "DJ_Or5iGq_0F",
        "outputId": "da1efbfd-c439-4a39-c208-3eed9f95825a",
        "colab": {
          "base_uri": "https://localhost:8080/"
        }
      },
      "id": "DJ_Or5iGq_0F",
      "execution_count": 6,
      "outputs": [
        {
          "output_type": "stream",
          "name": "stdout",
          "text": [
            "0.8333333333333334\n"
          ]
        }
      ]
    },
    {
      "cell_type": "markdown",
      "id": "af6e2429",
      "metadata": {
        "id": "af6e2429"
      },
      "source": [
        "### 3. Write a Python program to find the area of a triangle?\n",
        "##### Sol:"
      ]
    },
    {
      "cell_type": "code",
      "execution_count": 8,
      "id": "d5d93846",
      "metadata": {
        "id": "d5d93846",
        "outputId": "da4cf176-8aa2-4374-8bca-96ec23e30348",
        "colab": {
          "base_uri": "https://localhost:8080/"
        }
      },
      "outputs": [
        {
          "output_type": "stream",
          "name": "stdout",
          "text": [
            "Area of traingle is 500.0\n"
          ]
        }
      ],
      "source": [
        "height = 50\n",
        "base = 20\n",
        "\n",
        "area = height*base/2\n",
        "\n",
        "print(\"Area of traingle is\", area)"
      ]
    },
    {
      "cell_type": "markdown",
      "id": "b8140061",
      "metadata": {
        "id": "b8140061"
      },
      "source": [
        "### 4. Write a Python program to swap two variables?\n",
        "##### Sol:"
      ]
    },
    {
      "cell_type": "code",
      "execution_count": 9,
      "id": "182608ba",
      "metadata": {
        "id": "182608ba",
        "outputId": "3194599e-a1a9-45c9-eba0-749e1408732f",
        "colab": {
          "base_uri": "https://localhost:8080/"
        }
      },
      "outputs": [
        {
          "output_type": "stream",
          "name": "stdout",
          "text": [
            "Before swapping:\n",
            "var1 = 5 and var2 = 6\n",
            "\n",
            "After swappping\n",
            "var1 = 6 and var2 = 5\n"
          ]
        }
      ],
      "source": [
        "a = 5\n",
        "b = 6\n",
        "\n",
        "print('Before swapping:\\nvar1 = {} and var2 = {}'.format(a, b))\n",
        "\n",
        "temp = a\n",
        "a = b\n",
        "b= temp\n",
        "print('\\nAfter swappping\\nvar1 = {} and var2 = {}'.format(a,b))"
      ]
    },
    {
      "cell_type": "markdown",
      "id": "3f8054c1",
      "metadata": {
        "id": "3f8054c1"
      },
      "source": [
        "### 5. Write a Python program to generate a random number?\n",
        "##### Sol:"
      ]
    },
    {
      "cell_type": "code",
      "execution_count": 10,
      "id": "f1e76df9",
      "metadata": {
        "id": "f1e76df9",
        "outputId": "61ef268a-9147-4ad5-9b84-41b27b805229",
        "colab": {
          "base_uri": "https://localhost:8080/"
        }
      },
      "outputs": [
        {
          "output_type": "stream",
          "name": "stdout",
          "text": [
            "793\n"
          ]
        }
      ],
      "source": [
        "import random\n",
        "print(random.randint(1, 1000))"
      ]
    },
    {
      "cell_type": "code",
      "execution_count": null,
      "id": "3ab18c00",
      "metadata": {
        "id": "3ab18c00"
      },
      "outputs": [],
      "source": []
    }
  ],
  "metadata": {
    "kernelspec": {
      "display_name": "Python 3 (ipykernel)",
      "language": "python",
      "name": "python3"
    },
    "language_info": {
      "codemirror_mode": {
        "name": "ipython",
        "version": 3
      },
      "file_extension": ".py",
      "mimetype": "text/x-python",
      "name": "python",
      "nbconvert_exporter": "python",
      "pygments_lexer": "ipython3",
      "version": "3.9.7"
    },
    "colab": {
      "provenance": []
    }
  },
  "nbformat": 4,
  "nbformat_minor": 5
}