{
  "cells": [
    {
      "cell_type": "markdown",
      "id": "08c66ea5",
      "metadata": {
        "id": "08c66ea5"
      },
      "source": [
        "## Programming Assignment_2\n",
        "-------------"
      ]
    },
    {
      "cell_type": "markdown",
      "id": "4e50cf42",
      "metadata": {
        "id": "4e50cf42"
      },
      "source": [
        "### 1. Write a Python program to convert kilometers to miles?\n",
        "##### Sol."
      ]
    },
    {
      "cell_type": "code",
      "execution_count": 7,
      "id": "8d5eb295",
      "metadata": {
        "id": "8d5eb295",
        "outputId": "4ca64218-d3f5-48ae-f56e-bbe52ede3733",
        "colab": {
          "base_uri": "https://localhost:8080/"
        }
      },
      "outputs": [
        {
          "output_type": "stream",
          "name": "stdout",
          "text": [
            "10.00 kilometers is equal to 6.21 miles\n"
          ]
        }
      ],
      "source": [
        "kilometers= 10\n",
        "factor = 0.621371\n",
        "\n",
        "miles = kilometers * factor\n",
        "print('%0.2f kilometers is equal to %0.2f miles' %(kilometers,miles))"
      ]
    },
    {
      "cell_type": "markdown",
      "id": "0df4e6bf",
      "metadata": {
        "id": "0df4e6bf"
      },
      "source": [
        "### 2.Write a Python program to convert Celsius to Fahrenheit?\n",
        "##### Sol."
      ]
    },
    {
      "cell_type": "code",
      "execution_count": 6,
      "id": "b26052b8",
      "metadata": {
        "id": "b26052b8",
        "outputId": "03691853-7c26-4139-c81c-3d7ccc64f83a",
        "colab": {
          "base_uri": "https://localhost:8080/"
        }
      },
      "outputs": [
        {
          "output_type": "stream",
          "name": "stdout",
          "text": [
            "47.6 degree Celsius is equal to 117.7 degree Fahrenheit\n"
          ]
        }
      ],
      "source": [
        "celsius = 47.6\n",
        "\n",
        "fahrenheit = celsius * 1.8 + 32\n",
        "\n",
        "print('%0.1f degree Celsius is equal to %0.1f degree Fahrenheit' %(celsius,fahrenheit))"
      ]
    },
    {
      "cell_type": "markdown",
      "id": "46129b8e",
      "metadata": {
        "id": "46129b8e"
      },
      "source": [
        "### 3. Write a Python program to display calendar?\n",
        "##### Sol."
      ]
    },
    {
      "cell_type": "code",
      "execution_count": 1,
      "id": "57b648c9",
      "metadata": {
        "id": "57b648c9",
        "outputId": "7d48f50d-7b23-441a-da89-6e7dd7b7958a",
        "colab": {
          "base_uri": "https://localhost:8080/"
        }
      },
      "outputs": [
        {
          "output_type": "stream",
          "name": "stdout",
          "text": [
            "                                  2023\n",
            "\n",
            "      January                   February                   March\n",
            "Mo Tu We Th Fr Sa Su      Mo Tu We Th Fr Sa Su      Mo Tu We Th Fr Sa Su\n",
            "                   1             1  2  3  4  5             1  2  3  4  5\n",
            " 2  3  4  5  6  7  8       6  7  8  9 10 11 12       6  7  8  9 10 11 12\n",
            " 9 10 11 12 13 14 15      13 14 15 16 17 18 19      13 14 15 16 17 18 19\n",
            "16 17 18 19 20 21 22      20 21 22 23 24 25 26      20 21 22 23 24 25 26\n",
            "23 24 25 26 27 28 29      27 28                     27 28 29 30 31\n",
            "30 31\n",
            "\n",
            "       April                      May                       June\n",
            "Mo Tu We Th Fr Sa Su      Mo Tu We Th Fr Sa Su      Mo Tu We Th Fr Sa Su\n",
            "                1  2       1  2  3  4  5  6  7                1  2  3  4\n",
            " 3  4  5  6  7  8  9       8  9 10 11 12 13 14       5  6  7  8  9 10 11\n",
            "10 11 12 13 14 15 16      15 16 17 18 19 20 21      12 13 14 15 16 17 18\n",
            "17 18 19 20 21 22 23      22 23 24 25 26 27 28      19 20 21 22 23 24 25\n",
            "24 25 26 27 28 29 30      29 30 31                  26 27 28 29 30\n",
            "\n",
            "        July                     August                  September\n",
            "Mo Tu We Th Fr Sa Su      Mo Tu We Th Fr Sa Su      Mo Tu We Th Fr Sa Su\n",
            "                1  2          1  2  3  4  5  6                   1  2  3\n",
            " 3  4  5  6  7  8  9       7  8  9 10 11 12 13       4  5  6  7  8  9 10\n",
            "10 11 12 13 14 15 16      14 15 16 17 18 19 20      11 12 13 14 15 16 17\n",
            "17 18 19 20 21 22 23      21 22 23 24 25 26 27      18 19 20 21 22 23 24\n",
            "24 25 26 27 28 29 30      28 29 30 31               25 26 27 28 29 30\n",
            "31\n",
            "\n",
            "      October                   November                  December\n",
            "Mo Tu We Th Fr Sa Su      Mo Tu We Th Fr Sa Su      Mo Tu We Th Fr Sa Su\n",
            "                   1             1  2  3  4  5                   1  2  3\n",
            " 2  3  4  5  6  7  8       6  7  8  9 10 11 12       4  5  6  7  8  9 10\n",
            " 9 10 11 12 13 14 15      13 14 15 16 17 18 19      11 12 13 14 15 16 17\n",
            "16 17 18 19 20 21 22      20 21 22 23 24 25 26      18 19 20 21 22 23 24\n",
            "23 24 25 26 27 28 29      27 28 29 30               25 26 27 28 29 30 31\n",
            "30 31\n",
            "\n"
          ]
        }
      ],
      "source": [
        "import calendar\n",
        "year = 2023\n",
        "print(calendar.calendar(year))"
      ]
    },
    {
      "cell_type": "code",
      "execution_count": 2,
      "id": "195356fe",
      "metadata": {
        "id": "195356fe",
        "outputId": "6882bce0-9768-4425-ed87-06c81e31c2a3",
        "colab": {
          "base_uri": "https://localhost:8080/"
        }
      },
      "outputs": [
        {
          "output_type": "stream",
          "name": "stdout",
          "text": [
            "     April 2023\n",
            "Mo Tu We Th Fr Sa Su\n",
            "                1  2\n",
            " 3  4  5  6  7  8  9\n",
            "10 11 12 13 14 15 16\n",
            "17 18 19 20 21 22 23\n",
            "24 25 26 27 28 29 30\n",
            "\n"
          ]
        }
      ],
      "source": [
        "year = 2023\n",
        "month = 4\n",
        "print(calendar.month(year, month))"
      ]
    },
    {
      "cell_type": "markdown",
      "id": "db2bf0f7",
      "metadata": {
        "id": "db2bf0f7"
      },
      "source": [
        "### 4. Write a Python program to solve quadratic equation?\n",
        "##### Sol."
      ]
    },
    {
      "cell_type": "code",
      "execution_count": 8,
      "id": "66aa2e8b",
      "metadata": {
        "id": "66aa2e8b",
        "outputId": "193163ea-6d47-4742-8670-44f486fc9237",
        "colab": {
          "base_uri": "https://localhost:8080/"
        }
      },
      "outputs": [
        {
          "output_type": "stream",
          "name": "stdout",
          "text": [
            "ax^2 + bx^1 + c = 0\n",
            "Enter the coeff a, b and constant c\n",
            "Enter the coeff a: 5\n",
            "Enter the coeff b: 10\n",
            "Enter the constant c: 3\n",
            "\n",
            "For quad eq. 5x^2 + (10)x^1 + 3\n",
            "The solutions are: -0.3675444679663241 and -1.632455532033676\n"
          ]
        }
      ],
      "source": [
        "\n",
        "import math\n",
        "\n",
        "print(\"ax^2 + bx^1 + c = 0\")\n",
        "print(\"Enter the coeff a, b and constant c\")\n",
        "\n",
        "a = int(input((\"Enter the coeff a: \")))\n",
        "b = int(input((\"Enter the coeff b: \")))\n",
        "c = int(input((\"Enter the constant c: \")))\n",
        "\n",
        "d = (b**2) - (4*a*c)\n",
        "\n",
        "root1 = ((-1*b)+(math.sqrt(d))) / (2*a)\n",
        "root2 = ((-1*b)-(math.sqrt(d))) / (2*a)\n",
        "\n",
        "print('\\nFor quad eq. {}x^2 + ({})x^1 + {}'.format(a,b,c))\n",
        "print('The solutions are: {} and {}'.format(root1, root2))"
      ]
    },
    {
      "cell_type": "markdown",
      "id": "f70f74c9",
      "metadata": {
        "id": "f70f74c9"
      },
      "source": [
        "### 5. Write a Python program to swap two variables without temp variable?\n",
        "##### Sol."
      ]
    },
    {
      "cell_type": "code",
      "execution_count": 5,
      "id": "58514b20",
      "metadata": {
        "id": "58514b20",
        "outputId": "446ecd28-d537-4b0a-93e0-fa55a8ebf5a9",
        "colab": {
          "base_uri": "https://localhost:8080/"
        }
      },
      "outputs": [
        {
          "output_type": "stream",
          "name": "stdout",
          "text": [
            "Before swapping :\n",
            " a = 10 , b = 11\n",
            "after swapping :\n",
            " a = 11 , b = 10\n"
          ]
        }
      ],
      "source": [
        "a = 10\n",
        "b= 11\n",
        "print('Before swapping :\\n a = {} , b = {}'.format(a,b))\n",
        "b = a + b\n",
        "a= b - a\n",
        "b= b-a\n",
        "\n",
        "print('after swapping :\\n a = {} , b = {}'.format(a,b))"
      ]
    },
    {
      "cell_type": "code",
      "execution_count": null,
      "id": "3fbe6786",
      "metadata": {
        "id": "3fbe6786"
      },
      "outputs": [],
      "source": []
    }
  ],
  "metadata": {
    "kernelspec": {
      "display_name": "Python 3 (ipykernel)",
      "language": "python",
      "name": "python3"
    },
    "language_info": {
      "codemirror_mode": {
        "name": "ipython",
        "version": 3
      },
      "file_extension": ".py",
      "mimetype": "text/x-python",
      "name": "python",
      "nbconvert_exporter": "python",
      "pygments_lexer": "ipython3",
      "version": "3.9.7"
    },
    "colab": {
      "provenance": []
    }
  },
  "nbformat": 4,
  "nbformat_minor": 5
}