{
  "cells": [
    {
      "cell_type": "markdown",
      "id": "20cb4340",
      "metadata": {
        "id": "20cb4340"
      },
      "source": [
        "## Programming Assignment_4\n",
        "----------------"
      ]
    },
    {
      "cell_type": "markdown",
      "id": "4fdb6695",
      "metadata": {
        "id": "4fdb6695"
      },
      "source": [
        "### 1. Write a Python Program to Find the Factorial of a Number?\n",
        "##### Sol."
      ]
    },
    {
      "cell_type": "code",
      "execution_count": 3,
      "id": "0e5e7ce2",
      "metadata": {
        "id": "0e5e7ce2",
        "outputId": "bb810c1e-0f23-4a69-ca7b-9f32cc2a976b",
        "colab": {
          "base_uri": "https://localhost:8080/"
        }
      },
      "outputs": [
        {
          "output_type": "stream",
          "name": "stdout",
          "text": [
            "Enter a number: 5\n",
            "Factorial of 5 is 120\n"
          ]
        }
      ],
      "source": [
        "# num = int(input(\"Enter a number: \"))\n",
        "\n",
        "def factorial(n):\n",
        "  if (n==1 or n==0) :\n",
        "    return 1\n",
        "  else:\n",
        "    return n * factorial(n - 1);\n",
        "    \n",
        "num = int(input(\"Enter a number: \"))\n",
        "print(\"Factorial of\",num,\"is\",factorial(num))"
      ]
    },
    {
      "cell_type": "markdown",
      "id": "e6beef62",
      "metadata": {
        "id": "e6beef62"
      },
      "source": [
        "### 2. Write a Python Program to Display the multiplication Table?\n",
        "##### Sol."
      ]
    },
    {
      "cell_type": "code",
      "execution_count": 4,
      "id": "eba74c90",
      "metadata": {
        "id": "eba74c90",
        "outputId": "b3802cce-8bfd-4ace-eb7f-92a2147ccf3e",
        "colab": {
          "base_uri": "https://localhost:8080/"
        }
      },
      "outputs": [
        {
          "output_type": "stream",
          "name": "stdout",
          "text": [
            "Enter a number: 4\n",
            "4 x 1 = 4\n",
            "4 x 2 = 8\n",
            "4 x 3 = 12\n",
            "4 x 4 = 16\n",
            "4 x 5 = 20\n",
            "4 x 6 = 24\n",
            "4 x 7 = 28\n",
            "4 x 8 = 32\n",
            "4 x 9 = 36\n",
            "4 x 10 = 40\n"
          ]
        }
      ],
      "source": [
        "num = int(input(\"Enter a number: \"))\n",
        "\n",
        "for i in range(1, 11):\n",
        "    print(\"{} x {} = {}\".format(num, i, num*i))"
      ]
    },
    {
      "cell_type": "markdown",
      "id": "7de7eba5",
      "metadata": {
        "id": "7de7eba5"
      },
      "source": [
        "### 3. Write a Python Program to Print the Fibonacci sequence?\n",
        "##### Sol."
      ]
    },
    {
      "cell_type": "code",
      "execution_count": 5,
      "id": "14b8e06e",
      "metadata": {
        "id": "14b8e06e",
        "outputId": "80cac5db-25ab-400d-ac76-ece94069c4b8",
        "colab": {
          "base_uri": "https://localhost:8080/"
        }
      },
      "outputs": [
        {
          "output_type": "stream",
          "name": "stdout",
          "text": [
            "Enter a length: 11\n",
            "Fibonacci Series: 0 1 1 2 3 5 8 13 21 34 55 \n"
          ]
        }
      ],
      "source": [
        "num = int(input(\"Enter a length: \"))\n",
        "\n",
        "n1, n2 = 0, 1\n",
        "print(\"Fibonacci Series:\", n1, n2, end=\" \")\n",
        "for i in range(2, num):\n",
        "    n3 = n1 + n2\n",
        "    n1 = n2\n",
        "    n2 = n3\n",
        "    print(n3, end=\" \")\n",
        "\n",
        "print()"
      ]
    },
    {
      "cell_type": "markdown",
      "id": "0446442e",
      "metadata": {
        "id": "0446442e"
      },
      "source": [
        "### 4. Write a Python Program to Check Armstrong Number?\n",
        "##### Sol. "
      ]
    },
    {
      "cell_type": "code",
      "execution_count": 6,
      "id": "dc4d694d",
      "metadata": {
        "id": "dc4d694d"
      },
      "outputs": [],
      "source": [
        "import math"
      ]
    },
    {
      "cell_type": "code",
      "execution_count": 9,
      "id": "8275da72",
      "metadata": {
        "id": "8275da72",
        "outputId": "66c370bf-81a5-4223-bc7d-7c0d65885cd2",
        "colab": {
          "base_uri": "https://localhost:8080/"
        }
      },
      "outputs": [
        {
          "output_type": "stream",
          "name": "stdout",
          "text": [
            "Enter a number: 152\n",
            "152 is not an armstrong number\n"
          ]
        }
      ],
      "source": [
        "def fibonacci_check(num):\n",
        "    l = len(str(num)) \n",
        "    sum1 = 0 \n",
        "    temp_num = num\n",
        "    while(num > 0):\n",
        "        d = num % 10\n",
        "        sum1 += int(math.pow(d, l))\n",
        "        num = num // 10\n",
        "\n",
        "    if(sum1 == int(temp_num)):\n",
        "        return 1\n",
        "    else:\n",
        "        return 0\n",
        "\n",
        "num = int(input(\"Enter a number: \"))\n",
        "\n",
        "if(fibonacci_check(num)):\n",
        "    print(\"{} is an armstrong number\".format(num))\n",
        "else:\n",
        "    print(\"{} is not an armstrong number\".format(num))"
      ]
    },
    {
      "cell_type": "markdown",
      "id": "a6f9adfe",
      "metadata": {
        "id": "a6f9adfe"
      },
      "source": [
        "### 5. Write a Python Program to Find Armstrong Number in an Interval?\n",
        "##### Sol."
      ]
    },
    {
      "cell_type": "code",
      "execution_count": 10,
      "id": "0c4aa2f5",
      "metadata": {
        "id": "0c4aa2f5",
        "outputId": "e2b59a75-8c3b-4120-de5f-242379031023",
        "colab": {
          "base_uri": "https://localhost:8080/"
        }
      },
      "outputs": [
        {
          "output_type": "stream",
          "name": "stdout",
          "text": [
            "Enter the lower_range value : 10\n",
            "Enter the higher range value: 200\n",
            "\n",
            "From 10 to 200 following are the Armstrong Number:\n",
            "153 "
          ]
        }
      ],
      "source": [
        "lower_range = int(input(\"Enter the lower_range value : \"))\n",
        "high_range = int(input(\"Enter the higher range value: \"))\n",
        "\n",
        "print(\"\\nFrom {} to {} following are the Armstrong Number:\".format(lower_range,high_range), end='\\n')\n",
        "for i in range(lower_range, high_range+1):\n",
        "    \n",
        "    if(fibonacci_check(i)):\n",
        "        print(i, end = ' ')"
      ]
    },
    {
      "cell_type": "markdown",
      "id": "157cad60",
      "metadata": {
        "id": "157cad60"
      },
      "source": [
        "### 6. Write a Python Program to Find the Sum of Natural Numbers?\n",
        "##### Sol."
      ]
    },
    {
      "cell_type": "code",
      "execution_count": 7,
      "id": "aa7cf139",
      "metadata": {
        "id": "aa7cf139",
        "outputId": "20b894e9-b7d3-4149-8cea-6c188a196d2f",
        "colab": {
          "base_uri": "https://localhost:8080/"
        }
      },
      "outputs": [
        {
          "output_type": "stream",
          "name": "stdout",
          "text": [
            "Enter a  number: 12\n",
            "Sum of 12 natural number is 78\n"
          ]
        }
      ],
      "source": [
        "num = int(input(\"Enter a  number: \"))\n",
        "\n",
        "sum = 0\n",
        "for i in range(1, num+1):\n",
        "    sum += i\n",
        "    \n",
        "print(\"Sum of {} natural number is {}\".format(num,sum))"
      ]
    },
    {
      "cell_type": "code",
      "execution_count": null,
      "id": "333c15da",
      "metadata": {
        "id": "333c15da"
      },
      "outputs": [],
      "source": []
    }
  ],
  "metadata": {
    "kernelspec": {
      "display_name": "Python 3 (ipykernel)",
      "language": "python",
      "name": "python3"
    },
    "language_info": {
      "codemirror_mode": {
        "name": "ipython",
        "version": 3
      },
      "file_extension": ".py",
      "mimetype": "text/x-python",
      "name": "python",
      "nbconvert_exporter": "python",
      "pygments_lexer": "ipython3",
      "version": "3.9.7"
    },
    "colab": {
      "provenance": []
    }
  },
  "nbformat": 4,
  "nbformat_minor": 5
}