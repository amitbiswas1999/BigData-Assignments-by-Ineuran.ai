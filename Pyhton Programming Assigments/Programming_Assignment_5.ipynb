{
  "cells": [
    {
      "cell_type": "markdown",
      "id": "4ac9602a",
      "metadata": {
        "id": "4ac9602a"
      },
      "source": [
        "## Python Basic Programming Assignment - 5\n",
        "--------------\n"
      ]
    },
    {
      "cell_type": "markdown",
      "id": "fdaeee06",
      "metadata": {
        "id": "fdaeee06"
      },
      "source": [
        "### 1. Write a Python Program to Find LCM?"
      ]
    },
    {
      "cell_type": "code",
      "execution_count": 1,
      "id": "2bbfde05",
      "metadata": {
        "id": "2bbfde05",
        "outputId": "c6eaf1d5-1af9-4cfc-e2a5-54efc7ee75f9",
        "colab": {
          "base_uri": "https://localhost:8080/"
        }
      },
      "outputs": [
        {
          "output_type": "stream",
          "name": "stdout",
          "text": [
            "The L.C.M. is 216\n"
          ]
        }
      ],
      "source": [
        "\n",
        "def lcm(x, y):\n",
        "  if x > y:\n",
        "      greater = x\n",
        "  else:\n",
        "      greater = y\n",
        "\n",
        "  while(True):\n",
        "      if((greater % x == 0) and (greater % y == 0)):\n",
        "          lcm = greater\n",
        "          break\n",
        "      greater += 1\n",
        "\n",
        "  return lcm\n",
        "\n",
        "num1 = 54\n",
        "num2 = 24\n",
        "\n",
        "print(\"LCM. is\",lcm(num1, num2))"
      ]
    },
    {
      "cell_type": "markdown",
      "id": "2f459cdf",
      "metadata": {
        "id": "2f459cdf"
      },
      "source": [
        "---------------------\n",
        "### 2. Write a Python Program to Find HCF?"
      ]
    },
    {
      "cell_type": "code",
      "execution_count": 3,
      "id": "ca13cf0c",
      "metadata": {
        "id": "ca13cf0c",
        "outputId": "b056072f-4881-481f-f925-8704bbfc35be",
        "colab": {
          "base_uri": "https://localhost:8080/"
        }
      },
      "outputs": [
        {
          "output_type": "stream",
          "name": "stdout",
          "text": [
            "HCF. is 6\n"
          ]
        }
      ],
      "source": [
        "\n",
        "def hcf(x, y):\n",
        "    if x > y:\n",
        "        smaller = y\n",
        "    else:\n",
        "        smaller = x\n",
        "    for i in range(1, smaller+1):\n",
        "        if((x % i == 0) and (y % i == 0)):\n",
        "            hcf = i \n",
        "    return hcf\n",
        "\n",
        "num1 = 54 \n",
        "num2 = 24\n",
        "\n",
        "print(\"HCF. is\",hcf(num1, num2))"
      ]
    },
    {
      "cell_type": "markdown",
      "id": "d2c29370",
      "metadata": {
        "id": "d2c29370"
      },
      "source": [
        "---------------\n",
        "### 3. Write a Python Program to Convert Decimal to Binary, Octal and Hexadecimal?"
      ]
    },
    {
      "cell_type": "code",
      "execution_count": 7,
      "id": "f9fac93a",
      "metadata": {
        "id": "f9fac93a",
        "outputId": "5c55d78e-ff2c-4bec-d110-ad32de9b9672",
        "colab": {
          "base_uri": "https://localhost:8080/"
        }
      },
      "outputs": [
        {
          "output_type": "stream",
          "name": "stdout",
          "text": [
            "Binary:       0b1111011\n",
            "Octal:        0o173\n",
            "Hexadecimal:  0x7b\n"
          ]
        }
      ],
      "source": [
        "def conversion(num):\n",
        "  print(\"Binary:      \", bin(num))\n",
        "  print(\"Octal:       \", oct(num))\n",
        "  print(\"Hexadecimal: \", hex(num))\n",
        "\n",
        "conversion(123)"
      ]
    },
    {
      "cell_type": "markdown",
      "id": "2a16c5fd",
      "metadata": {
        "id": "2a16c5fd"
      },
      "source": [
        "---------------------\n",
        "### 4. Write a Python Program To Find ASCII value of a character?"
      ]
    },
    {
      "cell_type": "code",
      "execution_count": 9,
      "id": "c5164be3",
      "metadata": {
        "id": "c5164be3",
        "outputId": "1ebb16c5-f3b3-40b1-bdb4-9a5b7499e4ce",
        "colab": {
          "base_uri": "https://localhost:8080/"
        }
      },
      "outputs": [
        {
          "output_type": "stream",
          "name": "stdout",
          "text": [
            "The ASCII value of 'k' is 107\n"
          ]
        }
      ],
      "source": [
        "c = 'k'\n",
        "print(\"The ASCII value of '\" + c + \"' is\", ord(c))"
      ]
    },
    {
      "cell_type": "markdown",
      "id": "226778a0",
      "metadata": {
        "id": "226778a0"
      },
      "source": [
        "----------------\n",
        "### 5. Write a Python Program to Make a Simple Calculator with 4 basic mathematical operations?"
      ]
    },
    {
      "cell_type": "code",
      "execution_count": 10,
      "id": "4d0c1a4d",
      "metadata": {
        "id": "4d0c1a4d",
        "outputId": "775f320b-ee2c-4169-abe1-c464b1397b01",
        "colab": {
          "base_uri": "https://localhost:8080/"
        }
      },
      "outputs": [
        {
          "output_type": "stream",
          "name": "stdout",
          "text": [
            "Enter first number: 3\n",
            "Enter second number: 4\n",
            "\n",
            "For addition:       +\n",
            "For subtraction:    -\n",
            "For multiplicaton:  *\n",
            "For division:       /\n",
            "For Exit:            X\n",
            "\n",
            "Enter the choice for mathematical operations: +\n",
            "\n",
            "Result:  7\n",
            "Enter first number: 6\n",
            "Enter second number: 7\n",
            "\n",
            "For addition:       +\n",
            "For subtraction:    -\n",
            "For multiplicaton:  *\n",
            "For division:       /\n",
            "For Exit:            X\n",
            "\n",
            "Enter the choice for mathematical operations: /\n",
            "\n",
            "Result:  0.8571428571428571\n",
            "Enter first number: 56\n",
            "Enter second number: 23\n",
            "\n",
            "For addition:       +\n",
            "For subtraction:    -\n",
            "For multiplicaton:  *\n",
            "For division:       /\n",
            "For Exit:            X\n",
            "\n",
            "Enter the choice for mathematical operations: *\n",
            "\n",
            "Result:  1288\n",
            "Enter first number: 20\n",
            "Enter second number: 10\n",
            "\n",
            "For addition:       +\n",
            "For subtraction:    -\n",
            "For multiplicaton:  *\n",
            "For division:       /\n",
            "For Exit:            X\n",
            "\n",
            "Enter the choice for mathematical operations: /\n",
            "\n",
            "Result:  2.0\n",
            "Enter first number: \n",
            "invalid literal for int() with base 10: ''\n"
          ]
        }
      ],
      "source": [
        "try:\n",
        "    \n",
        "    while True:\n",
        "        num1 = int(input(\"Enter first number: \"))\n",
        "        num2 = int(input(\"Enter second number: \"))\n",
        "        \n",
        "        print(\"\\nFor addition:       +\")\n",
        "        print(\"For subtraction:    -\")\n",
        "        print(\"For multiplicaton:  *\")\n",
        "        print(\"For division:       /\")\n",
        "        print(\"For Exit:            X\")\n",
        "        \n",
        "        ch = input(\"\\nEnter the choice for mathematical operations: \")\n",
        "        \n",
        "        \n",
        "        if ch == '+':\n",
        "            output = num1 + num2\n",
        "        elif ch == '-':\n",
        "            output = num1 - num2\n",
        "        elif ch == '*':\n",
        "            output = num1 * num2\n",
        "        elif ch == '/':\n",
        "            output = num1 / num2\n",
        "        \n",
        "        if ch == 'X' or ch == 'x':\n",
        "            break\n",
        "            \n",
        "        print(\"\\nResult: \", output)\n",
        "        \n",
        "        \n",
        "            \n",
        "except Exception as e:\n",
        "    print(e)"
      ]
    },
    {
      "cell_type": "code",
      "execution_count": 10,
      "id": "fa01d572",
      "metadata": {
        "id": "fa01d572"
      },
      "outputs": [],
      "source": []
    }
  ],
  "metadata": {
    "kernelspec": {
      "display_name": "Python 3 (ipykernel)",
      "language": "python",
      "name": "python3"
    },
    "language_info": {
      "codemirror_mode": {
        "name": "ipython",
        "version": 3
      },
      "file_extension": ".py",
      "mimetype": "text/x-python",
      "name": "python",
      "nbconvert_exporter": "python",
      "pygments_lexer": "ipython3",
      "version": "3.9.7"
    },
    "colab": {
      "provenance": []
    }
  },
  "nbformat": 4,
  "nbformat_minor": 5
}